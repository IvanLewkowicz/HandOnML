{
 "cells": [
  {
   "cell_type": "markdown",
   "metadata": {},
   "source": [
    "### Object-oriented perceptron API\n",
    "En este codigo se crea una API para el perceptron basando en conceptos de OOP.\n",
    "\n",
    "Se usara alguna notacion particular como ponerle un underscore '_' a atributos que no esten creados al momento de inicializar el objeto.\n"
   ]
  },
  {
   "cell_type": "code",
   "execution_count": 4,
   "metadata": {},
   "outputs": [],
   "source": [
    "import numpy as np\n",
    "import pandas as pd\n"
   ]
  },
  {
   "cell_type": "code",
   "execution_count": null,
   "metadata": {},
   "outputs": [],
   "source": [
    "class Perceptron:\n",
    "    \"\"\"\n",
    "    Perceptron classifier\n",
    "\n",
    "    Parametros\n",
    "    -----------\n",
    "    eta : float\n",
    "        learning rate (betwween 0.0 and 1.0)\n",
    "    n_iter : int\n",
    "        Passer over the dataset.\n",
    "    random_state : int\n",
    "        Random number generator seed for random weight\n",
    "        initalization\n",
    "    \n",
    "    Atributos\n",
    "    -----------\n",
    "    w_ : 1d-array\n",
    "        Weights after fitting\n",
    "    b_ : scalar\n",
    "        Bias unit after fitting\n",
    "    \n",
    "    errors_ : list\n",
    "        Numbers of missclasifications (updates) in each epoch.\n",
    "\n",
    "    \"\"\"\n",
    "    def __init__(self, eta=0.01, n_iter=50, random_state=1):\n",
    "        self.eta = eta\n",
    "        self.n_iter = n_iter\n",
    "        self.random_state = random_state\n",
    "\n",
    "    def fit(self, X, y):\n",
    "        \"\"\"\n",
    "        Fit training data.\n",
    "\n",
    "        Parametros\n",
    "        ----------\n",
    "        X : {array-like}, shape = [n_examples, n_features]\n",
    "            Training vectores, where n_examples is the number of\n",
    "            examples and n_features is the numbers of features.\n",
    "        y : array-like, shape = [n_examples]\n",
    "            Target values.\n",
    "        \n",
    "        Returns\n",
    "        -------\n",
    "        self: object\n",
    "\n",
    "        \"\"\"\n",
    "        \n",
    "        rgen = np.random.RandomState(self.random_state) #Instancia de RandomState\n",
    "        self.w_ = rgen.normal(loc=0.0, scale=0.01,\n",
    "                               size=X.shape[1]) #Draw weights with a normal distribution with the size of the features\n",
    "    self.b_ = np.float_(0.)\n",
    "    self.errors_ = []"
   ]
  }
 ],
 "metadata": {
  "kernelspec": {
   "display_name": "Python 3 (ipykernel)",
   "language": "python",
   "name": "python3"
  },
  "language_info": {
   "codemirror_mode": {
    "name": "ipython",
    "version": 3
   },
   "file_extension": ".py",
   "mimetype": "text/x-python",
   "name": "python",
   "nbconvert_exporter": "python",
   "pygments_lexer": "ipython3",
   "version": "3.8.20"
  }
 },
 "nbformat": 4,
 "nbformat_minor": 2
}
